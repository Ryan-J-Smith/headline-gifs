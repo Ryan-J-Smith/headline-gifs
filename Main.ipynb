{
 "cells": [
  {
   "cell_type": "markdown",
   "metadata": {},
   "source": [
    "# Headline Reactions Bot\n",
    "\n",
    "This is a really simple twitter bot that retrieves a random news headline and a random reaction gif and posts the two together."
   ]
  },
  {
   "cell_type": "code",
   "execution_count": 42,
   "metadata": {
    "collapsed": false
   },
   "outputs": [],
   "source": [
    "import IPython.display\n",
    "\n",
    "from bs4 import BeautifulSoup\n",
    "import requests\n",
    "import tweepy\n",
    "\n",
    "import os\n",
    "import shutil\n",
    "\n",
    "#SCRIPT_DIR = os.path.dirname(os.path.realpath(__file__))\n",
    "SCRIPT_DIR = os.getcwd()\n",
    "LOCAL_IMG_FILE = SCRIPT_DIR + '\\\\reaction.gif'"
   ]
  },
  {
   "cell_type": "markdown",
   "metadata": {},
   "source": [
    "### Import credentials"
   ]
  },
  {
   "cell_type": "code",
   "execution_count": 2,
   "metadata": {
    "collapsed": true
   },
   "outputs": [],
   "source": [
    "from credentials import CONSUMER_KEY, CONSUMER_SECRET, ACCESS_TOKEN, ACCESS_TOKEN_SECRET"
   ]
  },
  {
   "cell_type": "markdown",
   "metadata": {},
   "source": [
    "### Setup TwitterAPI Class"
   ]
  },
  {
   "cell_type": "code",
   "execution_count": 3,
   "metadata": {
    "collapsed": true
   },
   "outputs": [],
   "source": [
    "class TwitterAPI(object):\n",
    "\n",
    "    def __init__(self): \n",
    "        auth = tweepy.OAuthHandler(CONSUMER_KEY, CONSUMER_SECRET)\n",
    "        auth.set_access_token(ACCESS_TOKEN, ACCESS_TOKEN_SECRET)\n",
    "        self.api = tweepy.API(auth)\n",
    "    \n",
    "    def tweet(self, message):\n",
    "        self.api.update_status(status=message)\n",
    "\n",
    "    def tweet_with_img(self, img_path, msg):\n",
    "        self.api.update_with_media(filename=img_path, status=msg)"
   ]
  },
  {
   "cell_type": "markdown",
   "metadata": {},
   "source": [
    "## Get GIFs\n",
    "\n",
    "[Helpful SO post on downloading images with requests](http://stackoverflow.com/questions/13137817/how-to-download-image-using-requests)"
   ]
  },
  {
   "cell_type": "markdown",
   "metadata": {},
   "source": [
    "### Option 1: replygif.net"
   ]
  },
  {
   "cell_type": "code",
   "execution_count": 33,
   "metadata": {
    "collapsed": true
   },
   "outputs": [],
   "source": [
    "def get_gif():\n",
    "    GIF_SITE_URL = 'http://replygif.net/random'\n",
    "    res = requests.get(GIF_SITE_URL)\n",
    "    soup = BeautifulSoup(res.text)\n",
    "    gif_url = soup.find('img')['src'] + \".gif\"\n",
    "    \n",
    "    res = requests.get(gif_url, stream=True)\n",
    "    with open(LOCAL_IMG_FILE, 'wb') as f:\n",
    "        shutil.copyfileobj(res.raw, f)"
   ]
  },
  {
   "cell_type": "markdown",
   "metadata": {},
   "source": [
    "#### Test `get_gif()`"
   ]
  },
  {
   "cell_type": "code",
   "execution_count": 45,
   "metadata": {
    "collapsed": false
   },
   "outputs": [
    {
     "data": {
      "text/html": [
       "<img src=\"D:\\Dropbox\\Projects\\twitterBots\\headline-reactions\\reaction.gif\"/>"
      ],
      "text/plain": [
       "<IPython.core.display.Image object>"
      ]
     },
     "execution_count": 45,
     "metadata": {},
     "output_type": "execute_result"
    }
   ],
   "source": [
    "get_gif()\n",
    "IPython.display.Image(url=LOCAL_IMG_FILE) "
   ]
  },
  {
   "cell_type": "markdown",
   "metadata": {},
   "source": [
    "## Get Headlines"
   ]
  },
  {
   "cell_type": "markdown",
   "metadata": {},
   "source": [
    "### Option 1: CNN"
   ]
  },
  {
   "cell_type": "code",
   "execution_count": 5,
   "metadata": {
    "collapsed": false
   },
   "outputs": [
    {
     "name": "stdout",
     "output_type": "stream",
     "text": [
      "Got 0 articles.\n"
     ]
    },
    {
     "name": "stderr",
     "output_type": "stream",
     "text": [
      "CRITICAL:newspaper.network:[REQUEST FAILED] \n"
     ]
    }
   ],
   "source": [
    "import newspaper\n",
    "\n",
    "config = newspaper.Config()\n",
    "config.MAX_TITLE = 140 # Max title length is 140 characters\n",
    "config.fetch_images = False # Don't need images\n",
    "configverbose = True # True for debugging\n",
    "\n",
    "NEWS_URLS = ['http://cnn.com',\n",
    "            'http://www.nytimes.com']\n",
    "\n",
    "#paper = newspaper.build(NEWS_URLS[1], config)\n",
    "\n",
    "paper = newspaper.build(NEWS_URLS[1])\n",
    "\n",
    "print(\"Got {0} articles.\".format(len(paper.articles)))"
   ]
  },
  {
   "cell_type": "code",
   "execution_count": 84,
   "metadata": {
    "collapsed": false
   },
   "outputs": [
    {
     "data": {
      "text/plain": [
       "[u'http://international.nytimes.com',\n",
       " u'http://sinosphere.blogs.nytimes.com',\n",
       " u'http://takingnote.blogs.nytimes.com',\n",
       " u'http://realestate.nytimes.com',\n",
       " u'http://www.nytimes.com',\n",
       " u'http://spiderbites.nytimes.com',\n",
       " u'http://lens.blogs.nytimes.com',\n",
       " u'http://topics.nytimes.com',\n",
       " u'http://wordplay.blogs.nytimes.com',\n",
       " u'http://well.blogs.nytimes.com',\n",
       " u'http://theater.nytimes.com',\n",
       " u'https://www.nytimes.com',\n",
       " u'http://eedition.nytimes.com',\n",
       " u'http://www.nytimes.com',\n",
       " u'http://tvlistings.nytimes.com',\n",
       " u'http://cn.nytimes.com',\n",
       " u'http://opinionator.blogs.nytimes.com',\n",
       " u'http://www.nytimes.whsites.net',\n",
       " u'http://artsbeat.blogs.nytimes.com']"
      ]
     },
     "execution_count": 84,
     "metadata": {},
     "output_type": "execute_result"
    }
   ],
   "source": [
    "paper.category_urls()"
   ]
  },
  {
   "cell_type": "code",
   "execution_count": 89,
   "metadata": {
    "collapsed": false
   },
   "outputs": [
    {
     "data": {
      "text/plain": [
       "'http://cnn.com'"
      ]
     },
     "execution_count": 89,
     "metadata": {},
     "output_type": "execute_result"
    }
   ],
   "source": []
  },
  {
   "cell_type": "code",
   "execution_count": 79,
   "metadata": {
    "collapsed": false
   },
   "outputs": [
    {
     "name": "stdout",
     "output_type": "stream",
     "text": [
      "Error\n",
      "Burning Man to set fire in the Nevada desert\n",
      "New Jersey: Magic, not tragic\n",
      "Elizabeth Cohen Explains\n",
      "Instagram gets into real-time news\n",
      "Millions donated to free Pakistan's bonded laborers\n",
      "Fitbit stock surges nearly 50% on first day of trading\n",
      "A year in space\n",
      "Donald Trump to unveil his tax plan next week\n",
      "21 ways to\n"
     ]
    }
   ],
   "source": [
    "for idx in range(0,10):\n",
    "    article = paper.articles[idx]\n",
    "    article.download()\n",
    "    article.parse()\n",
    "    print article.title"
   ]
  },
  {
   "cell_type": "code",
   "execution_count": 80,
   "metadata": {
    "collapsed": false
   },
   "outputs": [
    {
     "data": {
      "text/plain": [
       "[u'http://money.cnn.com',\n",
       " u'http://www.cnn.com',\n",
       " u'http://www.cnn.com/entertainment',\n",
       " u'http://www.cnn.com/collection',\n",
       " u'http://cnn.it',\n",
       " u'http://www.cnn.com',\n",
       " u'http://www.cnn.com/transcripts',\n",
       " u'http://www.cnn.com/style',\n",
       " u'http://www.cnn.com/opinions',\n",
       " u'http://www.cnn.com/videos',\n",
       " u'http://ireport.cnn.com',\n",
       " u'http://www.cnn.com/tech',\n",
       " u'http://www.cnn.com/living',\n",
       " u'http://www.cnn.com/us',\n",
       " u'http://www.cnn.com/health',\n",
       " u'http://www.cnn.com/politics',\n",
       " u'http://www.cnn.com/travel',\n",
       " u'http://www.cnn.com/more',\n",
       " u'http://www.cnn.com/tv',\n",
       " u'http://www.cnn.com/world']"
      ]
     },
     "execution_count": 80,
     "metadata": {},
     "output_type": "execute_result"
    }
   ],
   "source": [
    "paper.category_urls()"
   ]
  },
  {
   "cell_type": "code",
   "execution_count": 82,
   "metadata": {
    "collapsed": false
   },
   "outputs": [
    {
     "name": "stdout",
     "output_type": "stream",
     "text": [
      "Got 0 articles.\n"
     ]
    }
   ],
   "source": [
    "paper = newspaper.build('http://www.cnn.com/us')\n",
    "print(\"Got {0} articles.\".format(len(paper.articles)))"
   ]
  },
  {
   "cell_type": "code",
   "execution_count": null,
   "metadata": {
    "collapsed": true
   },
   "outputs": [],
   "source": [
    "for idx in range(0,10):\n",
    "    article = paper.articles[idx]\n",
    "    article.download()\n",
    "    article.parse()\n",
    "    print article.title"
   ]
  },
  {
   "cell_type": "markdown",
   "metadata": {},
   "source": [
    "## Update tweet log"
   ]
  },
  {
   "cell_type": "code",
   "execution_count": 63,
   "metadata": {
    "collapsed": true
   },
   "outputs": [],
   "source": [
    "def update_recent_tweets():\n",
    "        '''Write profile URL to list of recent tweets'''       \n",
    "        recent_tweets = get_recent_tweets()\n",
    "        recent_tweets.append(self.profile_url)\n",
    "\n",
    "        while len(recent_tweets) > NUM_RECENT_TWEETS:\n",
    "            recent_tweets.pop(0)\n",
    "        \n",
    "        with open(RECENT_TWEETS_FILE, 'w') as f:\n",
    "            for item in recent_tweets:\n",
    "                f.write('{0}\\n'.format(item))"
   ]
  },
  {
   "cell_type": "markdown",
   "metadata": {},
   "source": [
    "## Post Tweet"
   ]
  },
  {
   "cell_type": "code",
   "execution_count": null,
   "metadata": {
    "collapsed": true
   },
   "outputs": [],
   "source": [
    "tweet_with_img(LOCAL_)"
   ]
  }
 ],
 "metadata": {
  "kernelspec": {
   "display_name": "Python 2",
   "language": "python",
   "name": "python2"
  },
  "language_info": {
   "codemirror_mode": {
    "name": "ipython",
    "version": 2
   },
   "file_extension": ".py",
   "mimetype": "text/x-python",
   "name": "python",
   "nbconvert_exporter": "python",
   "pygments_lexer": "ipython2",
   "version": "2.7.8"
  }
 },
 "nbformat": 4,
 "nbformat_minor": 0
}
