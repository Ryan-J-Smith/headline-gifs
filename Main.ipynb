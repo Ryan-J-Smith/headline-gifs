{
 "cells": [
  {
   "cell_type": "markdown",
   "metadata": {},
   "source": [
    "# Headline Reactions Bot\n",
    "\n",
    "This is a simple Twitter bot that retrieves a random news headline and a random reaction gif and posts the two together."
   ]
  },
  {
   "cell_type": "code",
   "execution_count": 40,
   "metadata": {
    "collapsed": false
   },
   "outputs": [],
   "source": [
    "import IPython.display\n",
    "\n",
    "from bs4 import BeautifulSoup\n",
    "import requests\n",
    "import tweepy\n",
    "\n",
    "import os\n",
    "import shutil\n",
    "\n",
    "#SCRIPT_DIR = os.path.dirname(os.path.realpath(__file__))\n",
    "SCRIPT_DIR = os.getcwd()\n",
    "LOCAL_IMG_FILE = SCRIPT_DIR + '\\\\reaction.gif'\n",
    "RECENT_TWEETS_FILE = SCRIPT_DIR + '\\\\recent_tweets.dat'\n",
    "\n",
    "TWEET_BUFFER_LEN = 30"
   ]
  },
  {
   "cell_type": "markdown",
   "metadata": {},
   "source": [
    "### Import credentials"
   ]
  },
  {
   "cell_type": "code",
   "execution_count": 41,
   "metadata": {
    "collapsed": true
   },
   "outputs": [],
   "source": [
    "from credentials import CONSUMER_KEY, CONSUMER_SECRET, ACCESS_TOKEN, ACCESS_TOKEN_SECRET"
   ]
  },
  {
   "cell_type": "markdown",
   "metadata": {},
   "source": [
    "### Setup TwitterAPI Class"
   ]
  },
  {
   "cell_type": "code",
   "execution_count": 42,
   "metadata": {
    "collapsed": true
   },
   "outputs": [],
   "source": [
    "class TwitterAPI(object):\n",
    "\n",
    "    def __init__(self): \n",
    "        auth = tweepy.OAuthHandler(CONSUMER_KEY, CONSUMER_SECRET)\n",
    "        auth.set_access_token(ACCESS_TOKEN, ACCESS_TOKEN_SECRET)\n",
    "        self.api = tweepy.API(auth)\n",
    "    \n",
    "    def tweet(self, message):\n",
    "        self.api.update_status(status=message)\n",
    "\n",
    "    def tweet_with_img(self, img_path, msg):\n",
    "        self.api.update_with_media(filename=img_path, status=msg)\n",
    "\n",
    "def get_recent_tweets():\n",
    "    '''Return list of URLs to recently tweeted pets'''\n",
    "    # Get recent tweets from local file if they exist\n",
    "    if os.path.isfile(RECENT_TWEETS_FILE):\n",
    "        with open(RECENT_TWEETS_FILE, 'r') as f:\n",
    "            recent_tweets = f.read().splitlines()\n",
    "    else:\n",
    "        recent_tweets = []\n",
    "\n",
    "    return recent_tweets\n",
    "\n",
    "def update_recent_tweets(new_item):\n",
    "    '''Write profile URL to list of recent tweets'''       \n",
    "    recent_tweets = get_recent_tweets()\n",
    "    recent_tweets.append(new_item)\n",
    "\n",
    "    while len(recent_tweets) > TWEET_BUFFER_LEN:\n",
    "        recent_tweets.pop(0)\n",
    "\n",
    "    with open(RECENT_TWEETS_FILE, 'w') as f:\n",
    "        for item in recent_tweets:\n",
    "            f.write('{0}\\n'.format(item))"
   ]
  },
  {
   "cell_type": "markdown",
   "metadata": {},
   "source": [
    "## Get GIFs from replygif.net\n",
    "\n",
    "[Helpful SO post on downloading images with requests](http://stackoverflow.com/questions/13137817/how-to-download-image-using-requests)"
   ]
  },
  {
   "cell_type": "code",
   "execution_count": 43,
   "metadata": {
    "collapsed": true
   },
   "outputs": [],
   "source": [
    "def get_gif():\n",
    "    GIF_SITE_URL = 'http://replygif.net/random'\n",
    "    res = requests.get(GIF_SITE_URL)\n",
    "    soup = BeautifulSoup(res.text)\n",
    "    gif_url = soup.find('img')['src'] + \".gif\"\n",
    "    \n",
    "    res = requests.get(gif_url, stream=True)\n",
    "    with open(LOCAL_IMG_FILE, 'wb') as f:\n",
    "        shutil.copyfileobj(res.raw, f)"
   ]
  },
  {
   "cell_type": "markdown",
   "metadata": {},
   "source": [
    "### Get a gif\n",
    "\n",
    "Twitter has file size limits, so the gif needs to be less than 3 MB"
   ]
  },
  {
   "cell_type": "code",
   "execution_count": 52,
   "metadata": {
    "collapsed": false
   },
   "outputs": [],
   "source": [
    "get_gif()\n",
    "gif_size = os.path.getsize(LOCAL_IMG_FILE)\n",
    "\n",
    "while gif_size > 3E6:\n",
    "    get_gif()\n",
    "    gif_size = os.path.getsize(LOCAL_IMG_FILE)\n"
   ]
  },
  {
   "cell_type": "markdown",
   "metadata": {},
   "source": [
    "## Get Headlines from Reddit's /r/news"
   ]
  },
  {
   "cell_type": "markdown",
   "metadata": {},
   "source": [
    "\n",
    "Using [PRAW](https://praw.readthedocs.org/en/stable/) module\n"
   ]
  },
  {
   "cell_type": "code",
   "execution_count": 46,
   "metadata": {
    "collapsed": false
   },
   "outputs": [],
   "source": [
    "import praw\n",
    "import random\n",
    "\n",
    "USER_AGENT = \"Headline Gifs Twitter Account\"\n",
    "MAX_LEN = 120"
   ]
  },
  {
   "cell_type": "code",
   "execution_count": 47,
   "metadata": {
    "collapsed": true
   },
   "outputs": [],
   "source": [
    "submission_list = []\n",
    "r = praw.Reddit(user_agent=USER_AGENT)\n",
    "submissions = r.get_subreddit('news').get_top(limit=30)\n",
    "for submission in submissions:\n",
    "    submission_list.append(submission)"
   ]
  },
  {
   "cell_type": "markdown",
   "metadata": {},
   "source": [
    "#### Find suitable headline and URL"
   ]
  },
  {
   "cell_type": "code",
   "execution_count": 48,
   "metadata": {
    "collapsed": false
   },
   "outputs": [],
   "source": [
    "recent_headlines = get_recent_tweets()\n",
    "for submission in submission_list:\n",
    "    headline = submission.title\n",
    "    if (len(headline) < MAX_LEN) and (headline not in recent_headlines):\n",
    "        cur_headline = headline\n",
    "        headline_url = submission.url\n",
    "        break"
   ]
  },
  {
   "cell_type": "markdown",
   "metadata": {},
   "source": [
    "#### Shorten URL"
   ]
  },
  {
   "cell_type": "code",
   "execution_count": 49,
   "metadata": {
    "collapsed": false
   },
   "outputs": [],
   "source": [
    "from credentials import BITLY_TOKEN\n",
    "import requests\n",
    "shorten_url = 'https://api-ssl.bitly.com/v3/shorten'\n",
    "payload = {'access_token': BITLY_TOKEN, 'longUrl': headline_url, 'domain':'bit.ly'}\n",
    "res = requests.get(shorten_url, params = payload)\n",
    "short_url = res.json()['data']['url']"
   ]
  },
  {
   "cell_type": "markdown",
   "metadata": {},
   "source": [
    "## Compose and Post Tweet"
   ]
  },
  {
   "cell_type": "code",
   "execution_count": 53,
   "metadata": {
    "collapsed": false
   },
   "outputs": [],
   "source": [
    "twitter = TwitterAPI()\n",
    "\n",
    "tweet_msg = cur_headline + ' ' + short_url\n",
    "twitter.tweet_with_img(LOCAL_IMG_FILE, tweet_msg)\n",
    "update_recent_tweets(cur_headline)"
   ]
  }
 ],
 "metadata": {
  "kernelspec": {
   "display_name": "Python 2",
   "language": "python",
   "name": "python2"
  },
  "language_info": {
   "codemirror_mode": {
    "name": "ipython",
    "version": 2
   },
   "file_extension": ".py",
   "mimetype": "text/x-python",
   "name": "python",
   "nbconvert_exporter": "python",
   "pygments_lexer": "ipython2",
   "version": "2.7.10"
  }
 },
 "nbformat": 4,
 "nbformat_minor": 0
}
